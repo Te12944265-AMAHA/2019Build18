{
 "cells": [
  {
   "cell_type": "code",
   "execution_count": 53,
   "metadata": {},
   "outputs": [
    {
     "name": "stdout",
     "output_type": "stream",
     "text": [
      "Done parsing\n"
     ]
    }
   ],
   "source": [
    "import xml.etree.ElementTree as ET\n",
    "import os\n",
    "import numpy as np\n",
    "\n",
    "seq_list = [] # list of sequences of pen vectors\n",
    "\n",
    "maxdiff = 0\n",
    "\n",
    "# Iterate through xml files\n",
    "folders = os.listdir('original')\n",
    "for folder in folders:\n",
    "    files = os.listdir('original/' + folder)\n",
    "    vecs = [] # used within loop to store all pen vectors within a given line\n",
    "    for file in files:\n",
    "        tree = ET.parse('original/' + folder + '/' + file + '/strokesz.xml')\n",
    "        root = tree.getroot()\n",
    "\n",
    "        # Save the x-y-EOS series as a numpy array, put it in list\n",
    "        stroke_set = root.find('StrokeSet').findall('Stroke')\n",
    "        # For getting displacement vector between strokes\n",
    "        lastx = 0\n",
    "        lasty = 0\n",
    "        for stroke_num, stroke in enumerate(stroke_set):\n",
    "            point_set = stroke.findall('Point')\n",
    "            end = len(point_set) - 1\n",
    "            for i, point in enumerate(point_set):\n",
    "                x = float(point.get('x')) # pen offset in x direction\n",
    "                y = float(point.get('y')) # pen offset in y direction\n",
    "                    \n",
    "                if i == 0 and stroke_num == 0:\n",
    "                    lastx = x\n",
    "                    lasty = y\n",
    "                    continue\n",
    "                    \n",
    "                xdiff = x - lastx\n",
    "                ydiff = y - lasty\n",
    "                    \n",
    "                eos = float(i == end)\n",
    "                \n",
    "                # If we got to a new line, start a new sequence\n",
    "                if xdiff < -1000:\n",
    "                    lastx = x\n",
    "                    lasty = y\n",
    "                    if len(vecs) > 1:\n",
    "                        seq_list.append(np.array(vecs, dtype=np.float64))\n",
    "                    vecs = []\n",
    "                elif abs(xdiff) < 1000 and abs(ydiff) < 1000:\n",
    "                    lastx = x\n",
    "                    lasty = y\n",
    "                    vecs.append([xdiff, ydiff, eos])\n",
    "                    if abs(xdiff) > maxdiff:\n",
    "                        maxdiff = abs(xdiff)\n",
    "                    if abs(ydiff) > maxdiff:\n",
    "                        maxdiff = abs(ydiff)\n",
    "\n",
    "    if len(vecs) > 1:\n",
    "        seq_list.append(np.array(vecs, dtype=np.float64))\n",
    "    \n",
    "seq_list = np.array(seq_list)\n",
    "print('Done parsing')"
   ]
  },
  {
   "cell_type": "code",
   "execution_count": 60,
   "metadata": {},
   "outputs": [
    {
     "name": "stdout",
     "output_type": "stream",
     "text": [
      "0.1984997539893595\n",
      "0.0035824306256206457\n"
     ]
    }
   ],
   "source": [
    "# paper recommends normalizing stroke vectors\n",
    "sumx = 0\n",
    "sumy = 0\n",
    "sumx2 = 0\n",
    "sumy2 = 0\n",
    "strokes = 0\n",
    "\n",
    "for i in range(len(seq_list)):\n",
    "    sumx += np.sum(seq_list[i][:, 0])\n",
    "    sumy += np.sum(seq_list[i][:, 1])\n",
    "    sumx2 += np.sum(np.square(seq_list[i][:, 0]))\n",
    "    sumy2 += np.sum(np.square(seq_list[i][:, 1]))\n",
    "\n",
    "    strokes += len(seq_list[i])\n",
    "\n",
    "meanx = sumx/strokes\n",
    "meany = sumy/strokes\n",
    "meanx2 = sumx2/strokes\n",
    "meany2 = sumy2/strokes\n",
    "varx = meanx2 - meanx**2\n",
    "vary = meany2 - meany**2\n",
    "\n",
    "for i in range(len(seq_list)):\n",
    "    seq_list[i][:, 0] /= np.sqrt(varx)\n",
    "    seq_list[i][:, 1] /= np.sqrt(vary)"
   ]
  },
  {
   "cell_type": "code",
   "execution_count": 62,
   "metadata": {},
   "outputs": [],
   "source": [
    "import torch\n",
    "import random"
   ]
  },
  {
   "cell_type": "code",
   "execution_count": 63,
   "metadata": {},
   "outputs": [],
   "source": [
    "class GeneratorCell(torch.nn.Module):\n",
    "    def __init__(self, hidden_size, mixture_size):\n",
    "        super(GeneratorCell, self).__init__()\n",
    "\n",
    "        self.gru = torch.nn.GRU(input_size=3, hidden_size=hidden_size, batch_first=True)\n",
    "        self.hidden_size= hidden_size\n",
    "        self.mixture_size = mixture_size\n",
    "\n",
    "        # another layer cuz why not\n",
    "        #self.linear0 = torch.nn.Linear(hidden_size, hidden_size)\n",
    "        \n",
    "        # for generating mixture weights\n",
    "        self.linear1 = torch.nn.Linear(hidden_size, mixture_size)\n",
    "\n",
    "        # for generating means\n",
    "        self.linear2 = torch.nn.Linear(hidden_size, 2*mixture_size) \n",
    "        \n",
    "        # for generating standard deviations\n",
    "        self.linear3 = torch.nn.Linear(hidden_size, 2*mixture_size) \n",
    "\n",
    "        # for generating correlations\n",
    "        self.linear4 = torch.nn.Linear(hidden_size, mixture_size) \n",
    "\n",
    "        # for generating EOS probability\n",
    "        self.linear5 = torch.nn.Linear(hidden_size, 1)\n",
    "\n",
    "    def forward(self, input_batch, seq_lengths, max_length):\n",
    "        input_batch = torch.nn.utils.rnn.pack_padded_sequence(input_batch, seq_lengths, batch_first=True) # not zero-padded\n",
    "        output, hidden = self.gru(input_batch)\n",
    "        output, _ = torch.nn.utils.rnn.pad_packed_sequence(output, batch_first=True) # zero-padded\n",
    "        output.register_hook(lambda x: x.clamp(-10, 10)) # paper recommends clipping gradients\n",
    "\n",
    "        mdn_input = torch.reshape(output, (-1, hidden_size))\n",
    "        \n",
    "        gmm_weights = torch.nn.functional.softmax(self.linear1(mdn_input), dim=1).view(-1, mixture_size, 1)\n",
    "        \n",
    "        gmm_means = self.linear2(mdn_input).view(-1, mixture_size, 2)\n",
    "        gmm_stds = torch.exp(self.linear3(mdn_input)).view(-1, mixture_size, 2)\n",
    "        gmm_corrs = torch.tanh(self.linear4(mdn_input)).view(-1, mixture_size, 1)\n",
    "        eos_prob = torch.sigmoid(self.linear5(mdn_input))\n",
    "        gaussian_params = torch.cat((gmm_weights, gmm_means, gmm_stds, gmm_corrs), 2)\n",
    "        return gaussian_params, eos_prob\n",
    "    \n",
    "    # Given some (x, y, EOS), return the distribution parameters for the next (x, y, EOS) and the next hidden state\n",
    "    def get_next(self, input, hidden):\n",
    "        output, hidden = self.gru(input.view(1, 1, 3), hidden)\n",
    "        \n",
    "        # get rid of sequence index in output\n",
    "        output = output.squeeze(1)\n",
    "\n",
    "        gmm_weights = torch.nn.functional.softmax(self.linear1(output), dim=1).view(mixture_size, 1)\n",
    "        gmm_means = self.linear2(output).view(mixture_size, 2)\n",
    "        gmm_stds = torch.exp(self.linear3(output)).view(mixture_size, 2)\n",
    "        gmm_corrs = torch.tanh(self.linear4(output)).view(mixture_size, 1)\n",
    "        eos_prob = torch.sigmoid(self.linear5(output))\n",
    "        gaussian_params = torch.cat((gmm_weights, gmm_means, gmm_stds, gmm_corrs), 1)\n",
    "        return gaussian_params, eos_prob, hidden"
   ]
  },
  {
   "cell_type": "code",
   "execution_count": 79,
   "metadata": {},
   "outputs": [],
   "source": [
    "# seq_lengths tells us where to select the output to account for zero padding\n",
    "def log_likelihood(input_batch, gaussian_param_batch, eos_batch, mixture_size, seq_lengths, max_length):\n",
    "    input_batch = torch.reshape(input_batch, (-1, 3))\n",
    "    \n",
    "    ### Unpadding section is pretty confusing and should be cleaned up\n",
    "    \n",
    "    # selection mask containing ones at any indices where output isn't padded\n",
    "    selection = torch.zeros(max_length*len(seq_lengths), dtype=torch.bool)\n",
    "    for i, length in enumerate(seq_lengths):\n",
    "        start_index = i*max_length\n",
    "        selection[start_index:(start_index + length)] = torch.ones((length), dtype=torch.bool)\n",
    "            \n",
    "    input_batch = input_batch[selection]\n",
    "    gaussian_param_batch = gaussian_param_batch[selection]\n",
    "    eos_batch = eos_batch[selection]\n",
    "    \n",
    "    # Calculate bivariate Gaussian pdfs\n",
    "    xdiff = input_batch[:, 0].unsqueeze(1).expand(-1, mixture_size) - gaussian_param_batch[:, :, 1] # x - mu_x\n",
    "    ydiff = input_batch[:, 1].unsqueeze(1).expand(-1, mixture_size) - gaussian_param_batch[:, :, 2] # y - mu_y\n",
    "    xstd = gaussian_param_batch[:, :, 3]\n",
    "    ystd = gaussian_param_batch[:, :, 4]\n",
    "    corr = gaussian_param_batch[:, :, 5]\n",
    "    \n",
    "    Z = (xdiff**2)/(xstd**2) + (ydiff**2)/(ystd**2) - 2*corr*xdiff*ydiff/(xstd*ystd)\n",
    "    \n",
    "    one_minus_corr_squared = 1 - corr**2\n",
    "    \n",
    "    prob = torch.exp(-Z/(2*one_minus_corr_squared))/(2*np.pi*xstd*ystd*torch.sqrt(one_minus_corr_squared))\n",
    "    \n",
    "    logprob = torch.log(torch.sum(prob*gaussian_param_batch[:, :, 0], 1)) # add gaussians, weighted by mixture weights\n",
    "    eos = input_batch[:, 2]\n",
    "    not_eos = 1 - eos\n",
    "    logprob = logprob + eos*torch.log(eos_batch) + not_eos*torch.log(1 - eos_batch)\n",
    "    logprob = torch.sum(logprob)/batch_size\n",
    "    \n",
    "    logprob.register_hook(lambda x: x.clamp(-100, 100)) # paper recommends clipping gradients\n",
    "    \n",
    "    return logprob"
   ]
  },
  {
   "cell_type": "code",
   "execution_count": 90,
   "metadata": {},
   "outputs": [],
   "source": [
    "# Training loop\n",
    "n_epochs = 10\n",
    "batch_size = 15\n",
    "n_iters = int(len(seq_list)/batch_size)\n",
    "hidden_size = 100\n",
    "mixture_size = 20\n",
    "\n",
    "model = GeneratorCell(hidden_size, mixture_size).double()"
   ]
  },
  {
   "cell_type": "code",
   "execution_count": 91,
   "metadata": {},
   "outputs": [
    {
     "data": {
      "text/plain": [
       "<All keys matched successfully>"
      ]
     },
     "execution_count": 91,
     "metadata": {},
     "output_type": "execute_result"
    }
   ],
   "source": [
    "model.load_state_dict(torch.load('trained_model.pth'))"
   ]
  },
  {
   "cell_type": "code",
   "execution_count": 92,
   "metadata": {},
   "outputs": [],
   "source": [
    "optimizer = torch.optim.RMSprop(model.parameters(), lr=1e-4, eps=1e-4, alpha=0.95, momentum=0.9, centered=True)\n",
    "\n",
    "losses = np.zeros(n_epochs) # For plotting"
   ]
  },
  {
   "cell_type": "code",
   "execution_count": null,
   "metadata": {
    "scrolled": true
   },
   "outputs": [
    {
     "name": "stdout",
     "output_type": "stream",
     "text": [
      "Epoch: 0 Iteration: 0\n",
      "Epoch: 0 Iteration: 100\n"
     ]
    }
   ],
   "source": [
    "try:\n",
    "    for epoch in range(n_epochs):\n",
    "        random.shuffle(seq_list)\n",
    "        start_index = 0\n",
    "        for iter in range(n_iters):\n",
    "            if iter%100 == 0:\n",
    "                print('Epoch: ' + str(epoch) + ' Iteration: ' + str(iter))\n",
    "            \n",
    "            batch = sorted(seq_list[start_index:(start_index + batch_size)], key = lambda x: len(x), reverse=True)\n",
    "            seq_lengths = [len(seq) - 1 for seq in batch]\n",
    "\n",
    "            max_length = max(seq_lengths)\n",
    "            input_batch = torch.zeros((batch_size, max_length + 1, 3), dtype=torch.double) # zero-padded\n",
    "            for i in range(batch_size):\n",
    "                input_batch[i, 0:(seq_lengths[i] + 1), :] = torch.from_numpy(batch[i])\n",
    "            input_batch = torch.autograd.Variable(input_batch)\n",
    "\n",
    "            gaussian_param_batch, eos_batch = model.forward(input_batch, seq_lengths, max_length)\n",
    "\n",
    "            optimizer.zero_grad()\n",
    "            loss = -log_likelihood(input_batch[:, 1:, :], gaussian_param_batch, eos_batch, mixture_size, seq_lengths, max_length)\n",
    "            loss.backward()\n",
    "            optimizer.step()\n",
    "\n",
    "            losses[epoch] += loss.data\n",
    "            start_index += batch_size\n",
    "        losses[epoch] /= len(seq_list)\n",
    "        print('Epoch Loss: ' + str(losses[epoch]))\n",
    "except KeyboardInterrupt:# so you can stop training and resume later using ctrl-C\n",
    "    torch.save(model.state_dict(), 'trained_model.pth')"
   ]
  },
  {
   "cell_type": "code",
   "execution_count": 213,
   "metadata": {},
   "outputs": [],
   "source": [
    "torch.save(model.state_dict(), 'trained_model.pth')"
   ]
  },
  {
   "cell_type": "markdown",
   "metadata": {},
   "source": [
    "Next we have a plotter script to see what our model generates"
   ]
  },
  {
   "cell_type": "code",
   "execution_count": 68,
   "metadata": {},
   "outputs": [],
   "source": [
    "import matplotlib.pyplot as plt"
   ]
  },
  {
   "cell_type": "code",
   "execution_count": 88,
   "metadata": {},
   "outputs": [],
   "source": [
    "output_x = [0, 0.2] # list of x outputs. must supply 2 intially since the network takes a vector as an input\n",
    "output_y = [0, 0.003] # list of y outputs\n",
    "eos = 0 # does the previous output correspond to an eos\n",
    "hidden = torch.zeros((1, 1, hidden_size), dtype=torch.double)\n",
    "for i in range(700):\n",
    "    input = torch.tensor([output_x[-1] - output_x[-2], output_y[-1] - output_y[-2], eos], dtype=torch.double)\n",
    "    gaussian_params, eos, hidden = model.get_next(input, hidden)\n",
    "    \n",
    "    # choose which mixture to sample from\n",
    "    k = np.random.choice(mixture_size, p=gaussian_params[:, 0].detach().numpy())\n",
    "    \n",
    "    #construct multivariate gaussian\n",
    "    mu_x = gaussian_params[k, 1]\n",
    "    mu_y = gaussian_params[k, 2]\n",
    "\n",
    "    means = torch.tensor([mu_x, mu_y]) #for passing to multivariate normal\n",
    "    sigma_x = gaussian_params[k, 3]\n",
    "    sigma_y = gaussian_params[k, 4]\n",
    "    correlation = gaussian_params[k, 5]\n",
    "\n",
    "    cov = correlation*sigma_x*sigma_y\n",
    "    cov_mat = np.zeros((2, 2))\n",
    "    cov_mat[0, 0] = sigma_x**2\n",
    "    cov_mat[0, 1] = cov\n",
    "    cov_mat[1, 0] = cov\n",
    "    cov_mat[1, 1] = sigma_y**2\n",
    "\n",
    "    sample = np.random.multivariate_normal(means, cov_mat)\n",
    "    \n",
    "    output_x.append(output_x[-1] + sample[0])\n",
    "    output_y.append(output_y[-1] + sample[1])\n",
    "    \n",
    "    b = torch.distributions.Bernoulli(eos)\n",
    "    eos = b.sample().data"
   ]
  },
  {
   "cell_type": "code",
   "execution_count": 89,
   "metadata": {},
   "outputs": [
    {
     "data": {
      "text/plain": [
       "[<matplotlib.lines.Line2D at 0x7f51ca452b38>]"
      ]
     },
     "execution_count": 89,
     "metadata": {},
     "output_type": "execute_result"
    },
    {
     "data": {
      "image/png": "[encoded data removed]",
      "text/plain": [
       "<Figure size 432x288 with 1 Axes>"
      ]
     },
     "metadata": {
      "needs_background": "light"
     },
     "output_type": "display_data"
    }
   ],
   "source": [
    "output_y = [-y for y in output_y]\n",
    "plt.plot(output_x, output_y)"
   ]
  },
  {
   "cell_type": "code",
   "execution_count": 61,
   "metadata": {},
   "outputs": [
    {
     "data": {
      "image/png": "[encoded data removed]",
      "text/plain": [
       "<Figure size 432x288 with 1 Axes>"
      ]
     },
     "metadata": {
      "needs_background": "light"
     },
     "output_type": "display_data"
    }
   ],
   "source": [
    "# just to make sure we're parsing data correctly, plot some of it\n",
    "seq = seq_list[0]\n",
    "xs = [0]\n",
    "ys = [0]\n",
    "for element in seq:\n",
    "    xs.append(xs[-1] + element[0])\n",
    "    ys.append(ys[-1] - element[1])\n",
    "plt.plot(xs, ys)\n",
    "plt.show()"
   ]
  },
  {
   "cell_type": "code",
   "execution_count": 217,
   "metadata": {},
   "outputs": [
    {
     "data": {
      "image/png": "[encoded data removed]",
      "text/plain": [
       "<Figure size 432x288 with 1 Axes>"
      ]
     },
     "metadata": {
      "needs_background": "light"
     },
     "output_type": "display_data"
    }
   ],
   "source": [
    "plt.plot(losses)\n",
    "plt.show()"
   ]
  },
  {
   "cell_type": "code",
   "execution_count": null,
   "metadata": {},
   "outputs": [],
   "source": []
  }
 ],
 "metadata": {
  "kernelspec": {
   "display_name": "Python 3",
   "language": "python",
   "name": "python3"
  },
  "language_info": {
   "codemirror_mode": {
    "name": "ipython",
    "version": 3
   },
   "file_extension": ".py",
   "mimetype": "text/x-python",
   "name": "python",
   "nbconvert_exporter": "python",
   "pygments_lexer": "ipython3",
   "version": "3.6.9"
  }
 },
 "nbformat": 4,
 "nbformat_minor": 2
}
