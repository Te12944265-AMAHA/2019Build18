{
 "cells": [
  {
   "cell_type": "code",
   "execution_count": 1,
   "metadata": {},
   "outputs": [
    {
     "name": "stdout",
     "output_type": "stream",
     "text": [
      "Done parsing\n"
     ]
    }
   ],
   "source": [
    "import xml.etree.ElementTree as ET\n",
    "import os\n",
    "import numpy as np\n",
    "\n",
    "points_list = [] # list of point sequences\n",
    "points_lengths = [] # list of lengths of point sequences\n",
    "\n",
    "xmax = 0\n",
    "ymax = 0\n",
    "\n",
    "# Iterate through xml files\n",
    "file_num = 0\n",
    "folders = os.listdir('original')\n",
    "for folder in folders:\n",
    "    samples = os.listdir('original/' + folder)\n",
    "    for sample in samples:\n",
    "        file_num += 1\n",
    "        tree = ET.parse('original/' + folder + '/' + sample + '/strokesz.xml')\n",
    "        root = tree.getroot()\n",
    "\n",
    "        # Save the x-y-EOS series as another numpy array, put it in list\n",
    "        points = []\n",
    "        for stroke in root.find('StrokeSet').findall('Stroke'):\n",
    "            point_set = stroke.findall('Point')\n",
    "            end = len(point_set) - 1\n",
    "            for i, point in enumerate(point_set):\n",
    "                x = float(point.get('x'))\n",
    "                y = float(point.get('y'))\n",
    "                \n",
    "                xmax = max(xmax, x)\n",
    "                ymax = max(ymax, y)\n",
    "                eos = float(i == end)\n",
    "                points.append([x, y, eos])\n",
    "    point_series = np.array(points, dtype=np.float64)\n",
    "    points_list.append(point_series)\n",
    "    points_lengths.append(point_series.shape[0])\n",
    "    \n",
    "print('Done parsing')"
   ]
  },
  {
   "cell_type": "code",
   "execution_count": 2,
   "metadata": {},
   "outputs": [],
   "source": [
    "import torch\n",
    "import random"
   ]
  },
  {
   "cell_type": "code",
   "execution_count": 8,
   "metadata": {},
   "outputs": [],
   "source": [
    "class GeneratorCell(torch.nn.Module):\n",
    "    def __init__(self, hidden_size, mixture_size):\n",
    "        super(GeneratorCell, self).__init__()\n",
    "\n",
    "        self.gru = torch.nn.GRU(input_size=3, hidden_size=hidden_size, batch_first=True)\n",
    "        self.hidden_size= hidden_size\n",
    "        self.mixture_size = mixture_size\n",
    "\n",
    "        # for generating mixture weights\n",
    "        self.linear1 = torch.nn.Linear(hidden_size, mixture_size)\n",
    "\n",
    "        # for generating means\n",
    "        self.linear2 = torch.nn.Linear(hidden_size, 2*mixture_size) \n",
    "        \n",
    "        # for generating standard deviations\n",
    "        self.linear3 = torch.nn.Linear(hidden_size, 2*mixture_size) \n",
    "\n",
    "        # for generating correlations\n",
    "        self.linear4 = torch.nn.Linear(hidden_size, mixture_size) \n",
    "\n",
    "        # for generating EOS probability\n",
    "        self.linear5 = torch.nn.Linear(hidden_size, 1)\n",
    "\n",
    "    def forward(self, input_batch, seq_lengths, max_length):\n",
    "        input_batch = torch.nn.utils.rnn.pack_padded_sequence(input_batch, seq_lengths, batch_first=True) # not zero-padded\n",
    "        output, hidden = self.gru(input_batch)\n",
    "        output, _ = torch.nn.utils.rnn.pad_packed_sequence(output, batch_first=True) # zero-padded\n",
    "        \n",
    "        mdn_input = torch.reshape(output, (-1, hidden_size))\n",
    "        gmm_weights = torch.nn.functional.softmax(self.linear1(mdn_input), dim=1)\n",
    "        \n",
    "        # We treat the network's generated means as displacements from the previous position, so we add them\n",
    "        # to the previous position to generate the next position's mean\n",
    "        #input_batch, _ = torch.nn.utils.rnn.pad_packed_sequence(input_batch, batch_first=True) # zero-padded\n",
    "        #x_for_adding = torch.reshape(input_batch[:, :, 0], (-1, 1)).repeat(1, self.mixture_size)\n",
    "        #y_for_adding = torch.reshape(input_batch[:, :, 1], (-1, 1)).repeat(1, self.mixture_size)\n",
    "        gmm_means = torch.exp(self.linear2(mdn_input))# + torch.cat((x_for_adding, y_for_adding), dim=1)\n",
    "        gmm_stds = torch.exp(self.linear3(mdn_input))\n",
    "        gmm_corrs = torch.tanh(self.linear4(mdn_input))\n",
    "        eos_prob = torch.sigmoid(self.linear5(mdn_input))\n",
    "        mdn_output = torch.cat((gmm_weights, gmm_means, gmm_stds, gmm_corrs, eos_prob), 1)\n",
    "            \n",
    "        return mdn_output\n",
    "    \n",
    "    # Given some (x, y, EOS), return the distribution parameters for the next (x, y, EOS) and the next hidden state\n",
    "    def get_next(self, input, hidden):\n",
    "        output, hidden = self.gru(input.view(1, 1, 3), hidden)\n",
    "        \n",
    "        # get rid of sequence index in output\n",
    "        output = output.squeeze(1)\n",
    "\n",
    "        gmm_weights = torch.nn.functional.softmax(self.linear1(output), dim=1)\n",
    "        input_for_adding = torch.cat((input[0].repeat(1, self.mixture_size), input[1].repeat(1, self.mixture_size)), dim=1)\n",
    "        gmm_means = torch.exp(self.linear2(output)) + input_for_adding\n",
    "        gmm_stds = torch.exp(self.linear3(output))\n",
    "        gmm_corrs = torch.tanh(self.linear4(output))\n",
    "        eos_prob = torch.sigmoid(self.linear5(output))\n",
    "        mdn_output = torch.cat((gmm_weights, gmm_means, gmm_stds, gmm_corrs, eos_prob), 1)\n",
    "            \n",
    "        return mdn_output, hidden"
   ]
  },
  {
   "cell_type": "code",
   "execution_count": 76,
   "metadata": {},
   "outputs": [],
   "source": [
    "# seq_lengths tells us where to select the output to account for zero padding\n",
    "def log_likelihood_batched(input_batch, output_batch, mixture_size, seq_lengths, max_length):\n",
    "    input_batch = torch.reshape(input_batch, (-1, 3))\n",
    "    \n",
    "    # selection mask containing ones at any indices where output isn't padded\n",
    "    output_length = max_length*len(seq_lengths)\n",
    "    selection = torch.zeros((output_length), dtype=torch.bool)\n",
    "    for i, length in enumerate(seq_lengths):\n",
    "        start_index = i*max_length\n",
    "        selection[start_index:(start_index + length)] = torch.ones((length), dtype=torch.bool)\n",
    "        \n",
    "    input_batch = input_batch[selection]\n",
    "    output_batch = output_batch[selection]\n",
    "    \n",
    "    output_length = sum(seq_lengths)\n",
    "    \n",
    "    # iterate through Gaussians in mixture model\n",
    "    prob = torch.zeros((output_length), dtype=torch.double)\n",
    "    for k in range(mixture_size):\n",
    "        # mixing coefficient lambda_k\n",
    "        lambda_k = output_batch[:, k]\n",
    "\n",
    "        mu_x = output_batch[:, mixture_size + k]\n",
    "        mu_y = output_batch[:, 2*mixture_size + k]\n",
    "\n",
    "        loc = torch.stack([mu_x, mu_y]).view(-1, 2) #for passing to multivariate normal\n",
    "        sigma_x = output_batch[:, 3*mixture_size + k]\n",
    "        sigma_y = output_batch[:, 4*mixture_size + k]\n",
    "        correlation = output_batch[:, 5*mixture_size + k]\n",
    "\n",
    "        cov = correlation*sigma_x*sigma_y\n",
    "        cov_mat = torch.zeros((output_length, 2, 2), dtype=torch.double)\n",
    "        cov_mat[:, 0, 0] = sigma_x**2\n",
    "        cov_mat[:, 0, 1] = cov\n",
    "        cov_mat[:, 1, 0] = cov\n",
    "        cov_mat[:, 1, 1] = sigma_y**2\n",
    "\n",
    "        gaussian = torch.distributions.multivariate_normal.MultivariateNormal(loc, cov_mat)\n",
    "        prob += lambda_k*torch.exp(gaussian.log_prob(input_batch[:, 0:2]))\n",
    "\n",
    "    # mean log probability of input data\n",
    "    logprob = torch.sum(torch.log(prob + 0.0001*torch.ones((output_length))))\n",
    "    eos = input_batch[:, 2]\n",
    "    not_eos = torch.ones((output_length)) - eos\n",
    "    logprob = logprob + torch.sum(eos*torch.log(output_batch[:, 6*mixture_size]) + not_eos*torch.log(1 - output_batch[:, 6*mixture_size]))\n",
    "            \n",
    "    return logprob/output_length"
   ]
  },
  {
   "cell_type": "code",
   "execution_count": 93,
   "metadata": {},
   "outputs": [],
   "source": [
    "# Training loop\n",
    "n_epochs = 50\n",
    "n_iters = 50\n",
    "hidden_size = 18\n",
    "mixture_size = 3\n",
    "batch_size = 10\n",
    "\n",
    "model = GeneratorCell(hidden_size, mixture_size).double()"
   ]
  },
  {
   "cell_type": "code",
   "execution_count": 94,
   "metadata": {},
   "outputs": [
    {
     "data": {
      "text/plain": [
       "<All keys matched successfully>"
      ]
     },
     "execution_count": 94,
     "metadata": {},
     "output_type": "execute_result"
    }
   ],
   "source": [
    "model.load_state_dict(torch.load('trained_model.pth'))"
   ]
  },
  {
   "cell_type": "code",
   "execution_count": 95,
   "metadata": {},
   "outputs": [],
   "source": [
    "optimizer = torch.optim.Adam(model.parameters(), lr=0.01)\n",
    "\n",
    "losses = np.zeros(n_epochs) # For plotting\n",
    "\n",
    "indices = list(range(len(points_list))) # Indices for random sampling (for batches)"
   ]
  },
  {
   "cell_type": "code",
   "execution_count": 96,
   "metadata": {
    "scrolled": true
   },
   "outputs": [
    {
     "name": "stdout",
     "output_type": "stream",
     "text": [
      "Epoch: 0 Iteration: 0\n",
      "Loss: tensor(9.3913, dtype=torch.float64)\n",
      "Epoch: 0 Iteration: 1\n",
      "Loss: tensor(9.3516, dtype=torch.float64)\n",
      "Epoch: 0 Iteration: 2\n",
      "Loss: tensor(9.3559, dtype=torch.float64)\n",
      "Epoch: 0 Iteration: 3\n",
      "Loss: tensor(9.3923, dtype=torch.float64)\n",
      "Epoch: 0 Iteration: 4\n",
      "Loss: tensor(9.3991, dtype=torch.float64)\n",
      "Epoch: 0 Iteration: 5\n",
      "Loss: tensor(9.3892, dtype=torch.float64)\n",
      "Epoch: 0 Iteration: 6\n",
      "Loss: tensor(9.3554, dtype=torch.float64)\n",
      "Epoch: 0 Iteration: 7\n",
      "Loss: tensor(9.3505, dtype=torch.float64)\n",
      "Epoch: 0 Iteration: 8\n",
      "Loss: tensor(9.3804, dtype=torch.float64)\n",
      "Epoch: 0 Iteration: 9\n",
      "Loss: tensor(9.3652, dtype=torch.float64)\n",
      "Epoch: 0 Iteration: 10\n",
      "Loss: tensor(9.3751, dtype=torch.float64)\n",
      "Epoch: 0 Iteration: 11\n",
      "Loss: tensor(9.3733, dtype=torch.float64)\n",
      "Epoch: 0 Iteration: 12\n",
      "Loss: tensor(9.3803, dtype=torch.float64)\n",
      "Epoch: 0 Iteration: 13\n",
      "Loss: tensor(9.4000, dtype=torch.float64)\n",
      "Epoch: 0 Iteration: 14\n",
      "Loss: tensor(9.3807, dtype=torch.float64)\n",
      "Epoch: 0 Iteration: 15\n",
      "Loss: tensor(9.3734, dtype=torch.float64)\n",
      "Epoch: 0 Iteration: 16\n",
      "Loss: tensor(9.3854, dtype=torch.float64)\n",
      "Epoch: 0 Iteration: 17\n",
      "Loss: tensor(9.4024, dtype=torch.float64)\n",
      "Epoch: 0 Iteration: 18\n",
      "Loss: tensor(9.3998, dtype=torch.float64)\n",
      "Epoch: 0 Iteration: 19\n",
      "Loss: tensor(9.3975, dtype=torch.float64)\n",
      "Epoch: 0 Iteration: 20\n",
      "Loss: tensor(9.3911, dtype=torch.float64)\n",
      "Epoch: 0 Iteration: 21\n",
      "Loss: tensor(9.3787, dtype=torch.float64)\n",
      "Epoch: 0 Iteration: 22\n",
      "Loss: tensor(9.3709, dtype=torch.float64)\n",
      "Epoch: 0 Iteration: 23\n",
      "Loss: tensor(9.3898, dtype=torch.float64)\n",
      "Epoch: 0 Iteration: 24\n",
      "Loss: tensor(9.3513, dtype=torch.float64)\n",
      "Epoch: 0 Iteration: 25\n",
      "Loss: tensor(9.4014, dtype=torch.float64)\n",
      "Epoch: 0 Iteration: 26\n",
      "Loss: tensor(9.3810, dtype=torch.float64)\n",
      "Epoch: 0 Iteration: 27\n",
      "Loss: tensor(9.3867, dtype=torch.float64)\n",
      "Epoch: 0 Iteration: 28\n",
      "Loss: tensor(9.3913, dtype=torch.float64)\n",
      "Epoch: 0 Iteration: 29\n",
      "Loss: tensor(9.3683, dtype=torch.float64)\n",
      "Epoch: 0 Iteration: 30\n",
      "Loss: tensor(9.3758, dtype=torch.float64)\n",
      "Epoch: 0 Iteration: 31\n",
      "Loss: tensor(9.3905, dtype=torch.float64)\n",
      "Epoch: 0 Iteration: 32\n",
      "Loss: tensor(9.3679, dtype=torch.float64)\n",
      "Epoch: 0 Iteration: 33\n",
      "Loss: tensor(9.3599, dtype=torch.float64)\n",
      "Epoch: 0 Iteration: 34\n",
      "Loss: tensor(9.3852, dtype=torch.float64)\n",
      "Epoch: 0 Iteration: 35\n",
      "Loss: tensor(9.4038, dtype=torch.float64)\n",
      "Epoch: 0 Iteration: 36\n",
      "Loss: tensor(9.3759, dtype=torch.float64)\n",
      "Epoch: 0 Iteration: 37\n",
      "Loss: tensor(9.3786, dtype=torch.float64)\n",
      "Epoch: 0 Iteration: 38\n",
      "Loss: tensor(9.3876, dtype=torch.float64)\n",
      "Epoch: 0 Iteration: 39\n",
      "Loss: tensor(9.3795, dtype=torch.float64)\n",
      "Epoch: 0 Iteration: 40\n",
      "Loss: tensor(9.3714, dtype=torch.float64)\n",
      "Epoch: 0 Iteration: 41\n",
      "Loss: tensor(9.3632, dtype=torch.float64)\n",
      "Epoch: 0 Iteration: 42\n",
      "Loss: tensor(9.3630, dtype=torch.float64)\n",
      "Epoch: 0 Iteration: 43\n",
      "Loss: tensor(9.3783, dtype=torch.float64)\n",
      "Epoch: 0 Iteration: 44\n",
      "Loss: tensor(9.3814, dtype=torch.float64)\n",
      "Epoch: 0 Iteration: 45\n",
      "Loss: tensor(9.3724, dtype=torch.float64)\n",
      "Epoch: 0 Iteration: 46\n",
      "Loss: tensor(9.3773, dtype=torch.float64)\n",
      "Epoch: 0 Iteration: 47\n",
      "Loss: tensor(9.3727, dtype=torch.float64)\n",
      "Epoch: 0 Iteration: 48\n",
      "Loss: tensor(9.3749, dtype=torch.float64)\n",
      "Epoch: 0 Iteration: 49\n",
      "Loss: tensor(9.3680, dtype=torch.float64)\n",
      "Epoch: 1 Iteration: 0\n",
      "Loss: tensor(9.4058, dtype=torch.float64)\n",
      "Epoch: 1 Iteration: 1\n",
      "Loss: tensor(9.4056, dtype=torch.float64)\n",
      "Epoch: 1 Iteration: 2\n",
      "Loss: tensor(9.3746, dtype=torch.float64)\n",
      "Epoch: 1 Iteration: 3\n",
      "Loss: tensor(9.3755, dtype=torch.float64)\n",
      "Epoch: 1 Iteration: 4\n"
     ]
    }
   ],
   "source": [
    "try:\n",
    "    for epoch in range(n_epochs):\n",
    "        for iter in range(n_iters):\n",
    "            print('Epoch: ' + str(epoch) + ' Iteration: ' + str(iter))\n",
    "            index_list = random.sample(indices, batch_size) # random sampling of indices\n",
    "            seq_lengths = [points_lengths[i] for i in index_list] # list of sequence lengths\n",
    "\n",
    "            # sort for padding\n",
    "            batch_indices = [i for i, length in sorted(enumerate(seq_lengths), reverse=True, key=lambda x: x[1])]\n",
    "            seq_lengths = [seq_lengths[i] - 1 for i in batch_indices]\n",
    "            index_list = [index_list[i] for i in batch_indices]\n",
    "\n",
    "            max_length = max(seq_lengths)\n",
    "            input_batch = torch.zeros((batch_size, max_length + 1, 3), dtype=torch.double) # zero-padded\n",
    "            for batch in range(batch_size):\n",
    "                i = index_list[batch]\n",
    "                input_batch[batch, 0:(seq_lengths[batch] + 1), :] = torch.from_numpy(points_list[i])\n",
    "            input_batch = torch.autograd.Variable(input_batch)\n",
    "\n",
    "            output_batch = model.forward(input_batch, seq_lengths, max_length)\n",
    "\n",
    "            optimizer.zero_grad()\n",
    "            loss = -log_likelihood_batched(input_batch[:, 1:, :], output_batch, mixture_size, seq_lengths, max_length)\n",
    "            loss.backward()\n",
    "            optimizer.step()\n",
    "\n",
    "            print('Loss: ' + str(loss.data))\n",
    "\n",
    "            losses[epoch] += loss.data\n",
    "except KeyboardInterrupt:\n",
    "    torch.save(model.state_dict(), 'trained_model.pth')"
   ]
  },
  {
   "cell_type": "code",
   "execution_count": null,
   "metadata": {},
   "outputs": [],
   "source": [
    "torch.save(model.state_dict(), 'trained_model.pth')"
   ]
  },
  {
   "cell_type": "markdown",
   "metadata": {},
   "source": [
    "Next we have a plotter script to see what our model generates"
   ]
  },
  {
   "cell_type": "code",
   "execution_count": 97,
   "metadata": {},
   "outputs": [],
   "source": [
    "import matplotlib.pyplot as plt"
   ]
  },
  {
   "cell_type": "code",
   "execution_count": 98,
   "metadata": {},
   "outputs": [],
   "source": [
    "output_x = [895] # list of x outputs. this is the initial x\n",
    "output_y = [992] # list of y outputs. this is the initial y\n",
    "eos = 0 # does the previous output correspond to an eos\n",
    "hidden = torch.zeros((1, 1, hidden_size), dtype=torch.double)\n",
    "for i in range(200):\n",
    "    input = torch.tensor([output_x[-1], output_y[-1], eos], dtype=torch.double)\n",
    "    dist, hidden = model.get_next(input, hidden)\n",
    "    dist = dist.squeeze(0)\n",
    "    sample = torch.zeros(2, dtype=torch.double)\n",
    "    for k in range(mixture_size):\n",
    "        # mixing coefficient lambda_k\n",
    "        lambda_k = dist[k]\n",
    "\n",
    "        mu_x = dist[mixture_size + k]\n",
    "        mu_y = dist[2*mixture_size + k]\n",
    "\n",
    "        loc = torch.tensor([mu_x, mu_y]) #for passing to multivariate normal\n",
    "        sigma_x = 10*dist[3*mixture_size + k]\n",
    "        sigma_y = 10*dist[4*mixture_size + k]\n",
    "        correlation = dist[5*mixture_size + k]\n",
    "\n",
    "        cov = correlation*sigma_x*sigma_y\n",
    "        cov_mat = torch.zeros((2, 2), dtype=torch.double)\n",
    "        cov_mat[0, 0] = sigma_x**2\n",
    "        cov_mat[0, 1] = cov\n",
    "        cov_mat[1, 0] = cov\n",
    "        cov_mat[1, 1] = sigma_y**2\n",
    "\n",
    "        gaussian = torch.distributions.multivariate_normal.MultivariateNormal(loc, cov_mat)\n",
    "        sample += lambda_k*gaussian.rsample()\n",
    "    output_x.append(sample[0].data)\n",
    "    output_y.append(sample[1].data)\n",
    "    \n",
    "    b = torch.distributions.Bernoulli(dist[6*mixture_size])\n",
    "    eos = b.sample().data"
   ]
  },
  {
   "cell_type": "code",
   "execution_count": 99,
   "metadata": {},
   "outputs": [
    {
     "data": {
      "text/plain": [
       "[<matplotlib.lines.Line2D at 0x7ff0e03c7ef0>]"
      ]
     },
     "execution_count": 99,
     "metadata": {},
     "output_type": "execute_result"
    },
    {
     "data": {
      "image/png": "[encoded data removed]",
      "text/plain": [
       "<Figure size 432x288 with 1 Axes>"
      ]
     },
     "metadata": {
      "needs_background": "light"
     },
     "output_type": "display_data"
    }
   ],
   "source": [
    "output_y = [-y for y in output_y]\n",
    "plt.plot(output_x, output_y)"
   ]
  },
  {
   "cell_type": "code",
   "execution_count": 40,
   "metadata": {},
   "outputs": [
    {
     "data": {
      "image/png": "[encoded data removed]",
      "text/plain": [
       "<Figure size 432x288 with 1 Axes>"
      ]
     },
     "metadata": {
      "needs_background": "light"
     },
     "output_type": "display_data"
    }
   ],
   "source": [
    "plt.plot(losses)\n",
    "plt.show()"
   ]
  }
 ],
 "metadata": {
  "kernelspec": {
   "display_name": "Python 3",
   "language": "python",
   "name": "python3"
  },
  "language_info": {
   "codemirror_mode": {
    "name": "ipython",
    "version": 3
   },
   "file_extension": ".py",
   "mimetype": "text/x-python",
   "name": "python",
   "nbconvert_exporter": "python",
   "pygments_lexer": "ipython3",
   "version": "3.6.9"
  }
 },
 "nbformat": 4,
 "nbformat_minor": 2
}
