{
 "cells": [
  {
   "cell_type": "code",
   "execution_count": 1,
   "metadata": {},
   "outputs": [
    {
     "name": "stdout",
     "output_type": "stream",
     "text": [
      "Done parsing\n"
     ]
    }
   ],
   "source": [
    "import xml.etree.ElementTree as ET\n",
    "import os\n",
    "import numpy as np\n",
    "\n",
    "points_list = [] # list of point sequences\n",
    "points_lengths = [] # list of lengths of point sequences\n",
    "\n",
    "xmax = 0\n",
    "ymax = 0\n",
    "\n",
    "# Iterate through xml files\n",
    "file_num = 0\n",
    "folders = os.listdir('original')\n",
    "for folder in folders:\n",
    "    samples = os.listdir('original/' + folder)\n",
    "    for sample in samples:\n",
    "        file_num += 1\n",
    "        tree = ET.parse('original/' + folder + '/' + sample + '/strokesz.xml')\n",
    "        root = tree.getroot()\n",
    "\n",
    "        # Save the x-y-EOS series as another numpy array, put it in list\n",
    "        points = []\n",
    "        for stroke in root.find('StrokeSet').findall('Stroke'):\n",
    "            point_set = stroke.findall('Point')\n",
    "            end = len(point_set) - 1\n",
    "            for i, point in enumerate(point_set):\n",
    "                x = float(point.get('x'))\n",
    "                y = float(point.get('y'))\n",
    "                \n",
    "                xmax = max(xmax, x)\n",
    "                ymax = max(ymax, y)\n",
    "                eos = float(i == end)\n",
    "                points.append([x, y, eos])\n",
    "    point_series = np.array(points, dtype=np.float64)\n",
    "    points_list.append(point_series)\n",
    "    points_lengths.append(point_series.shape[0])\n",
    "    \n",
    "print('Done parsing')"
   ]
  },
  {
   "cell_type": "code",
   "execution_count": 2,
   "metadata": {},
   "outputs": [],
   "source": [
    "import torch\n",
    "import random"
   ]
  },
  {
   "cell_type": "code",
   "execution_count": 13,
   "metadata": {},
   "outputs": [],
   "source": [
    "class GeneratorCell(torch.nn.Module):\n",
    "    def __init__(self, hidden_size, mixture_size):\n",
    "        super(GeneratorCell, self).__init__()\n",
    "\n",
    "        self.gru = torch.nn.GRU(input_size=3, hidden_size=hidden_size, batch_first=True)\n",
    "        self.hidden_size= hidden_size\n",
    "        self.mixture_size = mixture_size\n",
    "\n",
    "        # for generating mixture weights\n",
    "        self.linear1 = torch.nn.Linear(hidden_size, mixture_size)\n",
    "\n",
    "        # for generating means\n",
    "        self.linear2 = torch.nn.Linear(hidden_size, 2*mixture_size) \n",
    "        \n",
    "        # for generating standard deviations\n",
    "        self.linear5 = torch.nn.Linear(hidden_size, 2*mixture_size) \n",
    "\n",
    "        # for generating correlations\n",
    "        self.linear3 = torch.nn.Linear(hidden_size, mixture_size) \n",
    "\n",
    "        # for generating EOS probability\n",
    "        self.linear4 = torch.nn.Linear(hidden_size, 1)\n",
    "\n",
    "    def forward(self, input_batch, seq_length):\n",
    "        batch_size = input_batch.size()[0]\n",
    "        mdn_output_batch = torch.zeros(batch_size, seq_length, 6*self.mixture_size + 1)\n",
    "        hidden = torch.zeros(1, batch_size, self.hidden_size, dtype=torch.double)\n",
    "        output, hidden = self.gru(input_batch, hidden)\n",
    "        for i in range(seq_length):\n",
    "            mdn_input = output[:, i, :]\n",
    "            \n",
    "            gmm_weights = torch.nn.functional.softmax(self.linear1(mdn_input), dim=1)\n",
    "            gmm_means = 20*self.linear2(mdn_input)\n",
    "            gmm_stds = 10*torch.exp(self.linear5(mdn_input))\n",
    "            gmm_corrs = torch.tanh(self.linear3(mdn_input))\n",
    "            eos_prob = torch.sigmoid(self.linear4(mdn_input))\n",
    "            mdn_output = torch.cat((gmm_weights, gmm_means, gmm_stds, gmm_corrs, eos_prob), 1)\n",
    "            mdn_output_batch[:, i, :] = mdn_output\n",
    "            \n",
    "        return mdn_output_batch\n",
    "    \n",
    "    # Given some (x, y, EOS), return the distribution parameters for (delta_x, delta_y, EOS) and the next hidden state\n",
    "    def get_next(self, input, hidden):\n",
    "        output, hidden = self.gru(input.view(1, 1, 3), hidden)\n",
    "        \n",
    "        # get rid of sequence index in output\n",
    "        output = output.squeeze(1)\n",
    "\n",
    "        gmm_weights = torch.nn.functional.softmax(self.linear1(output), dim=1)\n",
    "        gmm_means = 20*self.linear2(output)\n",
    "        gmm_stds = 10*torch.exp(self.linear5(output))\n",
    "        gmm_corrs = torch.tanh(self.linear3(output))\n",
    "        eos_prob = torch.sigmoid(self.linear4(output))\n",
    "        mdn_output = torch.cat((gmm_weights, gmm_means, gmm_stds, gmm_corrs, eos_prob), 1)\n",
    "            \n",
    "        return mdn_output, hidden"
   ]
  },
  {
   "cell_type": "code",
   "execution_count": 37,
   "metadata": {},
   "outputs": [],
   "source": [
    "def log_likelihood_batched(input_batch, output_batch, min_length, mixture_size, batch_size):\n",
    "    logprob = 0 # mean log probability of input data across batches\n",
    "    \n",
    "    # iterate through data points in sequence\n",
    "    for seq_index in range(min_length - 1):\n",
    "        data_point_batch = input_batch[:, seq_index + 1] # batch of next x-y-EOS values\n",
    "        # iterate through Gaussians in mixture model\n",
    "        prob = 0\n",
    "        for k in range(mixture_size):\n",
    "            # mixing coefficient lambda_k\n",
    "            lambda_k = output_batch[:, seq_index, k]\n",
    "\n",
    "            mu_x = output_batch[:, seq_index, mixture_size + k] + input_batch[:, seq_index, 0]\n",
    "            mu_y = output_batch[:, seq_index, 2*mixture_size + k] + input_batch[:, seq_index, 1]\n",
    "            \n",
    "            loc = torch.stack([mu_x, mu_y]).view(-1, 2) #for passing to multivariate normal\n",
    "            sigma_x = output_batch[:, seq_index, 3*mixture_size + k]\n",
    "            sigma_y = output_batch[:, seq_index, 4*mixture_size + k]\n",
    "            correlation = output_batch[:, seq_index, 5*mixture_size + k]\n",
    "\n",
    "            cov = correlation*sigma_x*sigma_y\n",
    "            cov_mat = torch.zeros((batch_size, 2, 2), dtype=torch.double)\n",
    "            cov_mat[:, 0, 0] = sigma_x**2 + 0.01*torch.ones(batch_size)\n",
    "            cov_mat[:, 0, 1] = cov\n",
    "            cov_mat[:, 1, 0] = cov\n",
    "            cov_mat[:, 1, 1] = sigma_y**2\n",
    "            \n",
    "            gaussian = torch.distributions.multivariate_normal.MultivariateNormal(loc, cov_mat)\n",
    "            prob += lambda_k*torch.exp(gaussian.log_prob(data_point_batch[:, 0:2].double()))\n",
    "        logprob += torch.sum(torch.log(prob + 0.001*torch.ones(batch_size)))/batch_size\n",
    "        eos = data_point_batch[:, 2]\n",
    "        not_eos = torch.ones(batch_size) - eos\n",
    "        logprob += torch.sum(eos*torch.log(output_batch[:, seq_index, 6*mixture_size]))/batch_size #EOS probability\n",
    "        logprob += torch.sum(not_eos*torch.log(1 - output_batch[:, seq_index, 6*mixture_size]))/batch_size #not-EOS probability\n",
    "            \n",
    "    return logprob/min_length"
   ]
  },
  {
   "cell_type": "code",
   "execution_count": 40,
   "metadata": {},
   "outputs": [],
   "source": [
    "# Training loop\n",
    "n_epochs = 100\n",
    "n_iters = 50\n",
    "hidden_size = 16\n",
    "mixture_size = 2\n",
    "batch_size = 50\n",
    "\n",
    "model = GeneratorCell(hidden_size, mixture_size).double()\n",
    "optimizer = torch.optim.Adam(model.parameters(), lr=0.0001)\n",
    "\n",
    "losses = np.zeros(n_epochs) # For plotting\n",
    "\n",
    "indices = list(range(len(points_list))) # Indices for random sampling (for batches)"
   ]
  },
  {
   "cell_type": "code",
   "execution_count": 41,
   "metadata": {
    "scrolled": true
   },
   "outputs": [
    {
     "name": "stdout",
     "output_type": "stream",
     "text": [
      "Epoch: 0 Iteration: 0\n",
      "Loss: tensor(inf, dtype=torch.float64)\n",
      "Epoch: 0 Iteration: 1\n"
     ]
    },
    {
     "ename": "RuntimeError",
     "evalue": "cholesky_cpu: For batch 0: U(1,1) is zero, singular U.",
     "output_type": "error",
     "traceback": [
      "\u001b[0;31m---------------------------------------------------------------------------\u001b[0m",
      "\u001b[0;31mRuntimeError\u001b[0m                              Traceback (most recent call last)",
      "\u001b[0;32m<ipython-input-41-ef3858e738c6>\u001b[0m in \u001b[0;36m<module>\u001b[0;34m\u001b[0m\n\u001b[1;32m     10\u001b[0m \u001b[0;34m\u001b[0m\u001b[0m\n\u001b[1;32m     11\u001b[0m         \u001b[0moptimizer\u001b[0m\u001b[0;34m.\u001b[0m\u001b[0mzero_grad\u001b[0m\u001b[0;34m(\u001b[0m\u001b[0;34m)\u001b[0m\u001b[0;34m\u001b[0m\u001b[0;34m\u001b[0m\u001b[0m\n\u001b[0;32m---> 12\u001b[0;31m         \u001b[0mloss\u001b[0m \u001b[0;34m=\u001b[0m \u001b[0;34m-\u001b[0m\u001b[0mlog_likelihood_batched\u001b[0m\u001b[0;34m(\u001b[0m\u001b[0minput_batch\u001b[0m\u001b[0;34m,\u001b[0m \u001b[0moutput_batch\u001b[0m\u001b[0;34m,\u001b[0m \u001b[0mmin_length\u001b[0m\u001b[0;34m,\u001b[0m \u001b[0mmixture_size\u001b[0m\u001b[0;34m,\u001b[0m \u001b[0mbatch_size\u001b[0m\u001b[0;34m)\u001b[0m\u001b[0;34m\u001b[0m\u001b[0;34m\u001b[0m\u001b[0m\n\u001b[0m\u001b[1;32m     13\u001b[0m         \u001b[0mloss\u001b[0m\u001b[0;34m.\u001b[0m\u001b[0mbackward\u001b[0m\u001b[0;34m(\u001b[0m\u001b[0;34m)\u001b[0m\u001b[0;34m\u001b[0m\u001b[0;34m\u001b[0m\u001b[0m\n\u001b[1;32m     14\u001b[0m         \u001b[0moptimizer\u001b[0m\u001b[0;34m.\u001b[0m\u001b[0mstep\u001b[0m\u001b[0;34m(\u001b[0m\u001b[0;34m)\u001b[0m\u001b[0;34m\u001b[0m\u001b[0;34m\u001b[0m\u001b[0m\n",
      "\u001b[0;32m<ipython-input-37-a8fdd7c43c95>\u001b[0m in \u001b[0;36mlog_likelihood_batched\u001b[0;34m(input_batch, output_batch, min_length, mixture_size, batch_size)\u001b[0m\n\u001b[1;32m     26\u001b[0m             \u001b[0mcov_mat\u001b[0m\u001b[0;34m[\u001b[0m\u001b[0;34m:\u001b[0m\u001b[0;34m,\u001b[0m \u001b[0;36m1\u001b[0m\u001b[0;34m,\u001b[0m \u001b[0;36m1\u001b[0m\u001b[0;34m]\u001b[0m \u001b[0;34m=\u001b[0m \u001b[0msigma_y\u001b[0m\u001b[0;34m**\u001b[0m\u001b[0;36m2\u001b[0m\u001b[0;34m\u001b[0m\u001b[0;34m\u001b[0m\u001b[0m\n\u001b[1;32m     27\u001b[0m \u001b[0;34m\u001b[0m\u001b[0m\n\u001b[0;32m---> 28\u001b[0;31m             \u001b[0mgaussian\u001b[0m \u001b[0;34m=\u001b[0m \u001b[0mtorch\u001b[0m\u001b[0;34m.\u001b[0m\u001b[0mdistributions\u001b[0m\u001b[0;34m.\u001b[0m\u001b[0mmultivariate_normal\u001b[0m\u001b[0;34m.\u001b[0m\u001b[0mMultivariateNormal\u001b[0m\u001b[0;34m(\u001b[0m\u001b[0mloc\u001b[0m\u001b[0;34m,\u001b[0m \u001b[0mcov_mat\u001b[0m\u001b[0;34m)\u001b[0m\u001b[0;34m\u001b[0m\u001b[0;34m\u001b[0m\u001b[0m\n\u001b[0m\u001b[1;32m     29\u001b[0m             \u001b[0mprob\u001b[0m \u001b[0;34m+=\u001b[0m \u001b[0mlambda_k\u001b[0m\u001b[0;34m*\u001b[0m\u001b[0mtorch\u001b[0m\u001b[0;34m.\u001b[0m\u001b[0mexp\u001b[0m\u001b[0;34m(\u001b[0m\u001b[0mgaussian\u001b[0m\u001b[0;34m.\u001b[0m\u001b[0mlog_prob\u001b[0m\u001b[0;34m(\u001b[0m\u001b[0mdata_point_batch\u001b[0m\u001b[0;34m[\u001b[0m\u001b[0;34m:\u001b[0m\u001b[0;34m,\u001b[0m \u001b[0;36m0\u001b[0m\u001b[0;34m:\u001b[0m\u001b[0;36m2\u001b[0m\u001b[0;34m]\u001b[0m\u001b[0;34m.\u001b[0m\u001b[0mdouble\u001b[0m\u001b[0;34m(\u001b[0m\u001b[0;34m)\u001b[0m\u001b[0;34m)\u001b[0m\u001b[0;34m)\u001b[0m\u001b[0;34m\u001b[0m\u001b[0;34m\u001b[0m\u001b[0m\n\u001b[1;32m     30\u001b[0m         \u001b[0;31m#logprob += torch.sum(torch.log(prob + 0.001*torch.ones(batch_size)))/batch_size\u001b[0m\u001b[0;34m\u001b[0m\u001b[0;34m\u001b[0m\u001b[0;34m\u001b[0m\u001b[0m\n",
      "\u001b[0;32m~/.local/lib/python3.6/site-packages/torch/distributions/multivariate_normal.py\u001b[0m in \u001b[0;36m__init__\u001b[0;34m(self, loc, covariance_matrix, precision_matrix, scale_tril, validate_args)\u001b[0m\n\u001b[1;32m    147\u001b[0m             \u001b[0mself\u001b[0m\u001b[0;34m.\u001b[0m\u001b[0m_unbroadcasted_scale_tril\u001b[0m \u001b[0;34m=\u001b[0m \u001b[0mscale_tril\u001b[0m\u001b[0;34m\u001b[0m\u001b[0;34m\u001b[0m\u001b[0m\n\u001b[1;32m    148\u001b[0m         \u001b[0;32melif\u001b[0m \u001b[0mcovariance_matrix\u001b[0m \u001b[0;32mis\u001b[0m \u001b[0;32mnot\u001b[0m \u001b[0;32mNone\u001b[0m\u001b[0;34m:\u001b[0m\u001b[0;34m\u001b[0m\u001b[0;34m\u001b[0m\u001b[0m\n\u001b[0;32m--> 149\u001b[0;31m             \u001b[0mself\u001b[0m\u001b[0;34m.\u001b[0m\u001b[0m_unbroadcasted_scale_tril\u001b[0m \u001b[0;34m=\u001b[0m \u001b[0mtorch\u001b[0m\u001b[0;34m.\u001b[0m\u001b[0mcholesky\u001b[0m\u001b[0;34m(\u001b[0m\u001b[0mcovariance_matrix\u001b[0m\u001b[0;34m)\u001b[0m\u001b[0;34m\u001b[0m\u001b[0;34m\u001b[0m\u001b[0m\n\u001b[0m\u001b[1;32m    150\u001b[0m         \u001b[0;32melse\u001b[0m\u001b[0;34m:\u001b[0m  \u001b[0;31m# precision_matrix is not None\u001b[0m\u001b[0;34m\u001b[0m\u001b[0;34m\u001b[0m\u001b[0m\n\u001b[1;32m    151\u001b[0m             \u001b[0mself\u001b[0m\u001b[0;34m.\u001b[0m\u001b[0m_unbroadcasted_scale_tril\u001b[0m \u001b[0;34m=\u001b[0m \u001b[0m_precision_to_scale_tril\u001b[0m\u001b[0;34m(\u001b[0m\u001b[0mprecision_matrix\u001b[0m\u001b[0;34m)\u001b[0m\u001b[0;34m\u001b[0m\u001b[0;34m\u001b[0m\u001b[0m\n",
      "\u001b[0;31mRuntimeError\u001b[0m: cholesky_cpu: For batch 0: U(1,1) is zero, singular U."
     ]
    }
   ],
   "source": [
    "for epoch in range(n_epochs):\n",
    "    for iter in range(n_iters):\n",
    "        print('Epoch: ' + str(epoch) + ' Iteration: ' + str(iter))\n",
    "        index_list = random.sample(indices, batch_size) # random sampling of indices\n",
    "        min_length = min([points_lengths[i] for i in index_list]) # list of sequence lengths\n",
    "        min_length = min(1000, min_length)\n",
    "        input_batch = torch.autograd.Variable(torch.tensor([points_list[i][0:min_length] for i in index_list], dtype=torch.double))\n",
    "        \n",
    "        output_batch = model.forward(input_batch, min_length)\n",
    "\n",
    "        optimizer.zero_grad()\n",
    "        loss = -log_likelihood_batched(input_batch, output_batch, min_length, mixture_size, batch_size)\n",
    "        loss.backward()\n",
    "        optimizer.step()\n",
    "        \n",
    "        print('Loss: ' + str(loss.data))\n",
    "\n",
    "        losses[epoch] += loss.data"
   ]
  },
  {
   "cell_type": "markdown",
   "metadata": {},
   "source": [
    "Next we have a plotter script to see what our model generates"
   ]
  },
  {
   "cell_type": "code",
   "execution_count": 20,
   "metadata": {},
   "outputs": [],
   "source": [
    "import matplotlib.pyplot as plt"
   ]
  },
  {
   "cell_type": "code",
   "execution_count": 34,
   "metadata": {},
   "outputs": [],
   "source": [
    "output_x = [895] # list of x outputs. this is the initial x\n",
    "output_y = [992] # list of y outputs. this is the initial y\n",
    "eos = 0 # does the previous output correspond to an eos\n",
    "hidden = torch.zeros((1, 1, hidden_size), dtype=torch.double)\n",
    "for i in range(500):\n",
    "    input = torch.tensor([output_x[-1], output_y[-1], eos], dtype=torch.double)\n",
    "    dist, hidden = model.get_next(input, hidden)\n",
    "    dist = dist.squeeze(0)\n",
    "    sample = torch.zeros(2, dtype=torch.double)\n",
    "    for k in range(mixture_size):\n",
    "        # mixing coefficient lambda_k\n",
    "        lambda_k = dist[k]\n",
    "\n",
    "        mu_x = dist[mixture_size + k] + input[0]\n",
    "        mu_y = dist[2*mixture_size + k] + input[1]\n",
    "\n",
    "        loc = torch.tensor([mu_x, mu_y]) #for passing to multivariate normal\n",
    "        sigma_x = 10*dist[3*mixture_size + k]\n",
    "        sigma_y = 10*dist[4*mixture_size + k]\n",
    "        correlation = dist[5*mixture_size + k]\n",
    "\n",
    "        cov = correlation*sigma_x*sigma_y\n",
    "        cov_mat = torch.zeros((2, 2), dtype=torch.double)\n",
    "        cov_mat[0, 0] = sigma_x**2 + 0.01\n",
    "        cov_mat[0, 1] = cov\n",
    "        cov_mat[1, 0] = cov\n",
    "        cov_mat[1, 1] = sigma_y**2\n",
    "\n",
    "        gaussian = torch.distributions.multivariate_normal.MultivariateNormal(loc, cov_mat)\n",
    "        sample += lambda_k*gaussian.rsample()\n",
    "    output_x.append(sample[0].data)\n",
    "    output_y.append(sample[1].data)\n",
    "    \n",
    "    b = torch.distributions.Bernoulli(dist[6*mixture_size])\n",
    "    eos = b.sample().data"
   ]
  },
  {
   "cell_type": "code",
   "execution_count": 35,
   "metadata": {},
   "outputs": [
    {
     "data": {
      "text/plain": [
       "[<matplotlib.lines.Line2D at 0x7ff75f978dd8>]"
      ]
     },
     "execution_count": 35,
     "metadata": {},
     "output_type": "execute_result"
    },
    {
     "data": {
      "image/png": "[encoded data removed]",
      "text/plain": [
       "<Figure size 432x288 with 1 Axes>"
      ]
     },
     "metadata": {
      "needs_background": "light"
     },
     "output_type": "display_data"
    }
   ],
   "source": [
    "plt.plot(output_x, output_y)"
   ]
  },
  {
   "cell_type": "code",
   "execution_count": 36,
   "metadata": {},
   "outputs": [
    {
     "data": {
      "image/png": "[encoded data removed]",
      "text/plain": [
       "<Figure size 432x288 with 1 Axes>"
      ]
     },
     "metadata": {
      "needs_background": "light"
     },
     "output_type": "display_data"
    }
   ],
   "source": [
    "plt.plot(losses)\n",
    "plt.show()"
   ]
  },
  {
   "cell_type": "code",
   "execution_count": null,
   "metadata": {},
   "outputs": [],
   "source": []
  }
 ],
 "metadata": {
  "kernelspec": {
   "display_name": "Python 3",
   "language": "python",
   "name": "python3"
  },
  "language_info": {
   "codemirror_mode": {
    "name": "ipython",
    "version": 3
   },
   "file_extension": ".py",
   "mimetype": "text/x-python",
   "name": "python",
   "nbconvert_exporter": "python",
   "pygments_lexer": "ipython3",
   "version": "3.6.9"
  }
 },
 "nbformat": 4,
 "nbformat_minor": 2
}
